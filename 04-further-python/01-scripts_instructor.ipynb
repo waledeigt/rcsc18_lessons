{
 "cells": [
  {
   "cell_type": "markdown",
   "metadata": {},
   "source": [
    "# Working with scripts\n",
    "\n",
    "So far this week we've been running all our Python commands in the notebook, which is a kind of combination between a command-line Python interpreter and a text editor. This works well as a teaching environment (and also for writing up things like blogs or code demonstrations, since you can combine plain text with code and its output), but it's actually not commonly used for day-to-day programming work. More commonly, you will want to create dedicated Python files. (These files are often called 'scripts', or 'codes' - we will be using all of these terms interchangeably.) Some text editors like Spyder include a Python interpreter which allows you to run your Python files inside the editor itself, as we have been with the Jupyter notebooks. However, you may not always have this option and will need to learn how to work with Python scripts through the command line.\n",
    "\n",
    "For this lesson we will be working in a text editor. For this we recommend you use the one you were using yesterday with bash and git, but if you already have another editor you prefer to use for writing Python files, feel free to use that instead. Open your text editor now and open a new file. Call it something like `rcsc18-data-analysis.py` (descriptive filenames are usually a good idea). Here, the `.py` file extension indicates that this is a Python file - you should always include this in the names of your Python scripts.\n",
    "\n",
    "In this file, let's recreate some of the work we did in the last lesson, analysing data and detecting problems. Here's some of the code we wrote:"
   ]
  },
  {
   "cell_type": "code",
   "execution_count": null,
   "metadata": {
    "collapsed": true
   },
   "outputs": [],
   "source": [
    "import glob\n",
    "import numpy as np\n",
    "import matplotlib.pyplot as plt\n",
    "\n",
    "def analyse(filename):\n",
    "    \"\"\"\n",
    "    Reads data from the specified file and plots the average, maximum and minimum along the first axis of the data.\n",
    "    \n",
    "    Parameters\n",
    "    ----------\n",
    "    filename : str\n",
    "        Name or path to a file containing data to be plotted. Data should be 2-dimensional and values should be\n",
    "        separated by commas.\n",
    "    \n",
    "    Examples\n",
    "    --------\n",
    "    >>> analyse('/path/to/mydata.dat')\n",
    "    \"\"\"\n",
    "\n",
    "    data = np.loadtxt(fname=filename, delimiter=',')\n",
    "\n",
    "    fig = plt.figure(figsize=(10.0, 3.0))\n",
    "\n",
    "    axes1 = fig.add_subplot(1, 3, 1)\n",
    "    axes2 = fig.add_subplot(1, 3, 2)\n",
    "    axes3 = fig.add_subplot(1, 3, 3)\n",
    "\n",
    "    axes1.set_ylabel('average')\n",
    "    axes1.plot(np.mean(data, axis=0))\n",
    "\n",
    "    axes2.set_ylabel('max')\n",
    "    axes2.plot(np.max(data, axis=0))\n",
    "\n",
    "    axes3.set_ylabel('min')\n",
    "    axes3.plot(np.min(data, axis=0))\n",
    "\n",
    "    fig.tight_layout()\n",
    "    plt.show()\n",
    "\n",
    "\n",
    "def detect_problems(filename):\n",
    "    \"\"\"\n",
    "    Tests data stored in the specified file for spurious or unexpected values.\n",
    "    \n",
    "    Parameters\n",
    "    ----------\n",
    "    filename : str\n",
    "        Name or path to a file containing data to tested. Data should be 2-dimensional and values should be\n",
    "        separated by commas.\n",
    "        \n",
    "    Examples\n",
    "    --------\n",
    "    >>> analyse('/path/to/mydata.dat')\n",
    "    \"\"\"\n",
    "    data = numpy.loadtxt(fname=filename, delimiter=',')\n",
    "\n",
    "    if np.max(data, axis=0)[0] == 0 and np.max(data, axis=0)[20] == 20:\n",
    "        print('Suspicious looking maxima!')\n",
    "    elif np.sum(np.min(data, axis=0)) == 0:\n",
    "        print('Minima add up to zero!')\n",
    "    else:\n",
    "        print('Seems OK!')\n",
    "\n",
    "\n",
    "filenames = sorted(glob.glob('inflammation*.csv'))\n",
    "\n",
    "for f in filenames[:3]:\n",
    "    print(f)\n",
    "    analyse(f)\n",
    "    detect_problems(f)\n"
   ]
  },
  {
   "cell_type": "markdown",
   "metadata": {},
   "source": [
    "\n",
    "<section class=\"callout panel panel-warning\">\n",
    "<div class=\"panel-heading\">\n",
    "<h2><span class=\"fa fa-thumb-tack\"></span> Copying code</h2>\n",
    "</div>\n",
    "\n",
    "\n",
    "<div class=\"panel-body\">\n",
    "\n",
    "<p>From time to time, you will end up being in a situation where you want to use code from somewhere else, perhaps from another script you've written, from some code like the above that you are being given, or from an online forum. When you do this we recommend that you copy and paste the code rather than retyping it all out yourself. This is often much faster, of course, but just as importantly it reduces the chance of mistyping something and introducing errors into the code (assuming it was correct to start with, of course). If you're working in a command-line editor you may find that the keyboard shortcut for pasting text is not the one you're used to, but if you can't find the appropriate keys, right-clicking the mouse and selecting 'Paste' should still work.</p>\n",
    "<p><strong>ALWAYS</strong> check carefully that you have permission to use whatever code you're copying before doing so. This will depend on where you're getting the code from, what you intend to use it for and what license it's published under, if any (more on licenses in a later lesson).</p>\n",
    "\n",
    "</div>\n",
    "\n",
    "</section>\n"
   ]
  },
  {
   "cell_type": "markdown",
   "metadata": {},
   "source": [
    "Copy the above into your new file and save it. Now, go to the command line (if you are editing your Python file in vim, nano or another command-line editor, either close it or open a new terminal and navigate to where your file is saved). We saw earlier that you can access the Python interpreter in the terminal with the `python` command, but this command can also take a filename as an argument, like this:\n",
    "\n",
    "```bash\n",
    "python rcsc18-data-analysis.py\n",
    "```\n",
    "\n",
    "Used like this, Python will read the contents of the file and start running the commands it contains from the top, until it gets to the bottom of the file or encounters an error. Run the command above now. You should get all the same output produced by that code when you ran it in the notebook, but now this output appears in the terminal instead.\n",
    "\n",
    "There are a number of advantages to running code from a script rather than in the notebook. First, with this approach we can now use all the tricks we learned in the [bash session](link to the bash session) - we can pass flags to the `python` command to change its behaviour, we can capture the output and pipe it to another command or a file, and so on. Also, if you find that you have to do some work on a remote server to which you only have command-line access (not an uncommon occurrence), you will have to be comfortable using Python in the terminal, since graphical interfaces like the notebook will not be available. Finally, and perhaps most importantly for the purposes of this summer school, plain-text formats such as `.py` files are much easier to track with git than notebooks are (because notebooks contain a lot of additional formatting as well as the text itself)."
   ]
  }
 ],
 "metadata": {
  "kernelspec": {
   "display_name": "Python 3",
   "language": "python",
   "name": "python3"
  },
  "language_info": {
   "codemirror_mode": {
    "name": "ipython",
    "version": 3
   },
   "file_extension": ".py",
   "mimetype": "text/x-python",
   "name": "python",
   "nbconvert_exporter": "python",
   "pygments_lexer": "ipython3",
   "version": "3.6.6"
  },
  "name": "01-scripts.ipynb"
 },
 "nbformat": 4,
 "nbformat_minor": 2
}
